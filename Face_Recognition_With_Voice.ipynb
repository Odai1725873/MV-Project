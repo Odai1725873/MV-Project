{
  "nbformat": 4,
  "nbformat_minor": 0,
  "metadata": {
    "colab": {
      "provenance": [],
      "authorship_tag": "ABX9TyNjWO2bNsN5Nu11fGG1Ahah",
      "include_colab_link": true
    },
    "kernelspec": {
      "name": "python3",
      "display_name": "Python 3"
    },
    "language_info": {
      "name": "python"
    }
  },
  "cells": [
    {
      "cell_type": "markdown",
      "metadata": {
        "id": "view-in-github",
        "colab_type": "text"
      },
      "source": [
        "<a href=\"https://colab.research.google.com/github/Odai1725873/MV-Project/blob/main/Face_Recognition_With_Voice.ipynb\" target=\"_parent\"><img src=\"https://colab.research.google.com/assets/colab-badge.svg\" alt=\"Open In Colab\"/></a>"
      ]
    },
    {
      "cell_type": "markdown",
      "source": [
        "\n",
        "**Open Camera**\n"
      ],
      "metadata": {
        "id": "Kxb8SC2igbei"
      }
    },
    {
      "cell_type": "code",
      "source": [
        "import cv2\n",
        "import torch\n",
        "\n",
        "# Load the model\n",
        "\n",
        "device = torch.device(\"cuda:0\" if torch.cuda.is_available() else \"cpu\")\n",
        "\n",
        "# Add the missing definitions for inputs and labels\n",
        "inputs = ... # Add code here to initialize inputs with data\n",
        "labels = ... # Add code here to initialize labels with data\n",
        "inputs, labels = inputs.to(device), labels.to(device)\n",
        "\n",
        "checkpoint = torch.load(r\"best_.pt\", map_location=torch.device('cpu'))\n",
        "model = checkpoint['model']\n",
        "model.eval()\n",
        "\n",
        "# Open the webcam\n",
        "cap = cv2.VideoCapture(0)\n",
        "\n",
        "while True:\n",
        "    ret, frame = cap.read()\n",
        "    if not ret:\n",
        "        break\n",
        "\n",
        "    # Pre-process the frame\n",
        "    frame = frame.transpose((2, 0, 1)) # Transpose the input so that it is in the format (C, H, W)\n",
        "    frame = torch.FloatTensor(frame).to(torch.device('cpu')) # Convert the input to a Tensor\n",
        "    frame = frame.unsqueeze(0) # Adds a batch dimension to the input\n",
        "\n",
        "    # Run the model on the frame\n",
        "    with torch.no_grad():\n",
        "        output = model(frame)\n",
        "\n",
        "    # Post-process the output\n",
        "    # TODO: Add code here to post-process the output\n",
        "\n",
        "    # Display the result\n",
        "    frame = frame.squeeze().transpose((1, 2, 0)) # Transpose the output back to its original format (H, W, C)\n",
        "    frame = frame.numpy().astype('uint8') # Convert the Tensor back to a numpy array\n",
        "    cv2.imshow(\"Webcam\", frame)\n",
        "    if cv2.waitKey(1) == 27:\n",
        "        break\n",
        "\n",
        "# Release the webcam\n",
        "cap.release()\n",
        "cv2.destroyAllWindows()"
      ],
      "metadata": {
        "id": "Np3GHQ90ghJK"
      },
      "execution_count": null,
      "outputs": []
    },
    {
      "cell_type": "markdown",
      "source": [
        "**Face recognition with voice**"
      ],
      "metadata": {
        "id": "arF3A4tdgmeJ"
      }
    },
    {
      "cell_type": "code",
      "source": [
        "import cv2\n",
        "import numpy as np\n",
        "from os import listdir\n",
        "from os.path import isfile,join\n",
        "import serial\n",
        "import time\n",
        "import pyttsx3\n",
        "q=1\n",
        "x=0\n",
        "c=0\n",
        "m=0\n",
        "d=0\n",
        "while q<=2:\n",
        "    data_path = 'C:/Users/user/Desktop/python/image/'\n",
        "    onlyfiles = [f for f in listdir(data_path) if isfile(join(data_path,f))]\n",
        "    Training_data, Lebels = [],[]\n",
        "    for i , files in enumerate(onlyfiles):\n",
        "        image_path = data_path + onlyfiles[i]\n",
        "        images = cv2.imread(image_path,cv2.IMREAD_GRAYSCALE)\n",
        "        Training_data.append(np.asarray(images, dtype = np.uint8)) \n",
        "        Lebels.append(i)\n",
        "\n",
        "    Lebels = np.asarray(Lebels, dtype = np.int32)\n",
        "    model = cv2.face.LBPHFaceRecognizer_create()\n",
        "    model.train(np.asarray(Training_data),np.asarray(Lebels))\n",
        "    print(\"training complete\")\n",
        "    q+=1\n",
        "face_classifier = cv2.CascadeClassifier('C:/Users/user/AppData/Local/Programs/Python/Python38\\Lib/site-packages/cv2/data/haarcascade_frontalface_default.xml')\n",
        "\n",
        "\n",
        "def speak(audio):\n",
        "    engine.say(audio)\n",
        "    engine.runAndWait()\n",
        "engine = pyttsx3.init('sapi5')\n",
        "voices=engine.getProperty('voices')\n",
        "engine.setProperty(\"voice\",voices[0].id)\n",
        "engine.setProperty(\"rate\",140)\n",
        "engine.setProperty(\"volume\",1000)\n",
        "\n",
        "\n",
        "def face_detector(img, size= 0.5):\n",
        "    gray = cv2.cvtColor(img,cv2.COLOR_BGR2GRAY)\n",
        "    faces = face_classifier.detectMultiScale(gray,1.3,5)\n",
        "\n",
        "    if faces is():\n",
        "        return img,[]\n",
        "    for(x,y,w,h) in faces:\n",
        "        cv2.rectangle(img, (x,y),(x+w,y+h),(0,255,255),2)\n",
        "        roi = img[y:y+h, x:x+w]\n",
        "        roi = cv2.resize(roi,(200,200))\n",
        "    \n",
        "    return img,roi\n",
        "\n",
        "cap = cv2.VideoCapture(0)\n",
        "while True:\n",
        "    ret, frame = cap.read()\n",
        "\n",
        "    image, face = face_detector(frame)\n",
        "\n",
        "    try:\n",
        "        face = cv2.cvtColor(face,cv2.COLOR_BGR2GRAY)\n",
        "        result= model.predict(face)\n",
        "        if result[1]<500:"
      ],
      "metadata": {
        "id": "VRKKV7Hzgr65"
      },
      "execution_count": null,
      "outputs": []
    }
  ]
}